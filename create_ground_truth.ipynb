{
 "cells": [
  {
   "cell_type": "code",
   "execution_count": 8,
   "metadata": {},
   "outputs": [],
   "source": [
    "from pathlib import Path\n",
    "import pandas as pd\n",
    "import os\n",
    "import os.path as osp\n",
    "from datetime import datetime, time, timedelta"
   ]
  },
  {
   "cell_type": "code",
   "execution_count": 9,
   "metadata": {},
   "outputs": [
    {
     "name": "stdout",
     "output_type": "stream",
     "text": [
      "['001', '002', '003', '004', '005', '006', '007', '008', '009', '010']\n"
     ]
    }
   ],
   "source": [
    "person_id = 'u1_extra'\n",
    "query_path = Path.cwd().parent / 'data' / person_id / 'puzzle_query'\n",
    "queries = [d for d in sorted(os.listdir(str(query_path))) if osp.isdir(str(query_path / d)) and not d.startswith('.')]\n",
    "print(queries)"
   ]
  },
  {
   "cell_type": "code",
   "execution_count": 10,
   "metadata": {},
   "outputs": [],
   "source": [
    "def time_in_range(t):\n",
    "    result = 0\n",
    "    if time(4, 0, 0) <= t <= time(11, 59, 0):\n",
    "        result = 1\n",
    "    elif time(12, 0, 0) <= t <= time(16, 59, 0):\n",
    "        result = 2\n",
    "    elif time(17, 0, 0) <= t <= time(22, 59, 0):\n",
    "        result = 3\n",
    "    elif time(23, 0, 0) <= t or t >= time(3, 59, 0):\n",
    "        result = 4\n",
    "    return result"
   ]
  },
  {
   "cell_type": "code",
   "execution_count": 11,
   "metadata": {},
   "outputs": [
    {
     "name": "stdout",
     "output_type": "stream",
     "text": [
      "Processing query 001\n",
      "Processing query 002\n",
      "Processing query 003\n",
      "Processing query 004\n",
      "Processing query 005\n",
      "Processing query 006\n",
      "Processing query 007\n",
      "Processing query 008\n",
      "Processing query 009\n",
      "Processing query 010\n"
     ]
    }
   ],
   "source": [
    "combine_gtdf = []\n",
    "for query in queries:\n",
    "    print('Processing query {}'.format(query))\n",
    "    query_fold_path = query_path / query\n",
    "    map_filepath = query_fold_path / 'map_df.csv'\n",
    "    map_df = pd.read_csv(map_filepath)\n",
    "    ids = list(map(lambda x: '{:%Y:%m:%d_:%H:%M}_{}'.format(\n",
    "            datetime.strptime(x[1][3:16], '%Y%m%d_%H%M') + timedelta(hours=1), x[1][17:])\n",
    "               .replace(':',''), map_df.values))\n",
    "    times = list(map(lambda x: time_in_range(datetime.strptime(x[1][12:16], '%H%M').time()), map_df.values))\n",
    "    query_id = [query] * len(times)\n",
    "    map_df.insert(3, 'ids', ids)\n",
    "    map_df.insert(4, 'times', times)\n",
    "    map_df.sort_values('ids', axis=0, inplace=True)\n",
    "    orders = [i+1 for i in range(len(map_df.index))]\n",
    "    map_df.insert(5, 'orders', orders)\n",
    "    map_df.sort_values('image_name', axis=0, inplace=True)\n",
    "    map_df.drop(['image_id', 'image_path', 'ids'], axis=1, inplace=True)\n",
    "    map_df = map_df[['image_name', 'orders', 'times']]\n",
    "    map_df.insert(0, 'query_id', query_id)\n",
    "#     map_df.to_csv(str(query_path / '{}.csv'.format(query)), index=False, header=False, na_rep='NULL')\n",
    "    combine_gtdf.append(map_df)\n",
    "combine_gtdf = pd.concat(combine_gtdf)\n",
    "combine_gtdf.to_csv(str(query_path / 'puzzle_test_gt.csv'), index=False, header=False, na_rep='NULL')"
   ]
  },
  {
   "cell_type": "code",
   "execution_count": null,
   "metadata": {},
   "outputs": [],
   "source": []
  }
 ],
 "metadata": {
  "kernelspec": {
   "display_name": "Python 3",
   "language": "python",
   "name": "python3"
  },
  "language_info": {
   "codemirror_mode": {
    "name": "ipython",
    "version": 3
   },
   "file_extension": ".py",
   "mimetype": "text/x-python",
   "name": "python",
   "nbconvert_exporter": "python",
   "pygments_lexer": "ipython3",
   "version": "3.7.2"
  }
 },
 "nbformat": 4,
 "nbformat_minor": 2
}
