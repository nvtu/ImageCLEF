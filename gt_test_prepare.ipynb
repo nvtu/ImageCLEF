{
 "cells": [
  {
   "cell_type": "code",
   "execution_count": 9,
   "metadata": {},
   "outputs": [],
   "source": [
    "import numpy as np\n",
    "import pandas as pd\n",
    "from pathlib import Path\n",
    "from load_data import *\n",
    "from utils import *\n",
    "import subprocess\n",
    "from PIL import Image\n",
    "import random\n",
    "import math"
   ]
  },
  {
   "cell_type": "code",
   "execution_count": 10,
   "metadata": {},
   "outputs": [
    {
     "name": "stdout",
     "output_type": "stream",
     "text": [
      "Function load_csv_file elapsed Time: 0:00:00.716695\n",
      "Function load_csv_file elapsed Time: 0:00:01.289899\n"
     ]
    }
   ],
   "source": [
    "# Create test path and load metadata\n",
    "person_id = 'u1_extra'\n",
    "test_path = Path.cwd().parent / 'data' / person_id / 'puzzle_test'\n",
    "if not osp.exists(str(test_path)):\n",
    "    os.makedirs(str(test_path))\n",
    "minute_meta_fp = Path.cwd().parent / 'data' / 'minute_based_table'\n",
    "vs_meta_fp = Path.cwd().parent / 'data' / 'visual_concepts'\n",
    "minute_based_df = load_csv_file(minute_meta_fp, '{}.csv'.format(person_id))\n",
    "visual_concept_df = load_csv_file(vs_meta_fp, '{}_categories_attr_concepts.csv'.format(person_id))\n",
    "query_fold_path = Path.cwd().parent / 'data' / person_id / 'puzzle_query'\n",
    "query_ids = [d for d in sorted(os.listdir(str(query_fold_path))) if osp.isdir(str(query_fold_path / d))]"
   ]
  },
  {
   "cell_type": "code",
   "execution_count": 12,
   "metadata": {},
   "outputs": [
    {
     "name": "stdout",
     "output_type": "stream",
     "text": [
      "Processing query 001\n",
      "Processing query 002\n",
      "Processing query 003\n",
      "Processing query 004\n",
      "Processing query 005\n",
      "Processing query 006\n",
      "Processing query 007\n",
      "Processing query 008\n",
      "Processing query 009\n",
      "Processing query 010\n"
     ]
    }
   ],
   "source": [
    "# Create ground truth metadata\n",
    "for query in query_ids:\n",
    "    query_path = query_fold_path / query\n",
    "    vs_metadata_df = []\n",
    "    dates = [d for d in os.listdir(str(query_path)) if osp.isdir(str(query_path / d))]\n",
    "    # Get visual concepts info from image path\n",
    "    for date in dates:\n",
    "        date_path = query_path / date\n",
    "        img_name = [f for f in sorted(os.listdir(str(date_path)))]\n",
    "        img_paths = [osp.join(date, name) for name in img_name]\n",
    "        vs_df = [visual_concept_df.query('image_path == \"{}\"'.format(path)) for path in img_paths]\n",
    "        vs_metadata_df.append(pd.concat(vs_df))\n",
    "    vs_metadata_df = pd.concat(vs_metadata_df)\n",
    "    # Get minute_based_df info from vs_metadata_df\n",
    "    minute_metadata_df = []\n",
    "    for v in vs_metadata_df.values:\n",
    "        image_id, image_path, *r = v\n",
    "        mask = minute_based_df.isin([image_id])\n",
    "        metadata = minute_based_df[mask.any(axis=1)]\n",
    "        minute_metadata_df.append(metadata)\n",
    "    minute_metadata_df = pd.concat(minute_metadata_df)\n",
    "    # Save the ground truth\n",
    "    vs_metadata_df.to_csv(str(query_path / 'visual_concepts.csv'), index=False, na_rep='NULL')\n",
    "    minute_metadata_df.to_csv(str(query_path / 'minute_based_table.csv'), index=False, na_rep='NULL')\n",
    "    print(\"Processing query {}\".format(query))"
   ]
  },
  {
   "cell_type": "code",
   "execution_count": 13,
   "metadata": {},
   "outputs": [
    {
     "name": "stdout",
     "output_type": "stream",
     "text": [
      "Function load_csv_file elapsed Time: 0:00:00.013456\n",
      "Function load_csv_file elapsed Time: 0:00:00.012998\n",
      "25\n",
      "Processing query 001\n",
      "Function load_csv_file elapsed Time: 0:00:00.013175\n",
      "Function load_csv_file elapsed Time: 0:00:00.012631\n",
      "25\n",
      "Processing query 002\n",
      "Function load_csv_file elapsed Time: 0:00:00.008715\n",
      "Function load_csv_file elapsed Time: 0:00:00.015082\n",
      "25\n",
      "Processing query 003\n",
      "Function load_csv_file elapsed Time: 0:00:00.008664\n",
      "Function load_csv_file elapsed Time: 0:00:00.013211\n",
      "25\n",
      "Processing query 004\n",
      "Function load_csv_file elapsed Time: 0:00:00.010686\n",
      "Function load_csv_file elapsed Time: 0:00:00.013133\n",
      "25\n",
      "Processing query 005\n",
      "Function load_csv_file elapsed Time: 0:00:00.010920\n",
      "Function load_csv_file elapsed Time: 0:00:00.014732\n",
      "25\n",
      "Processing query 006\n",
      "Function load_csv_file elapsed Time: 0:00:00.010301\n",
      "Function load_csv_file elapsed Time: 0:00:00.014870\n",
      "25\n",
      "Processing query 007\n",
      "Function load_csv_file elapsed Time: 0:00:00.009182\n",
      "Function load_csv_file elapsed Time: 0:00:00.012817\n",
      "25\n",
      "Processing query 008\n",
      "Function load_csv_file elapsed Time: 0:00:00.007080\n",
      "Function load_csv_file elapsed Time: 0:00:00.011252\n",
      "25\n",
      "Processing query 009\n",
      "Function load_csv_file elapsed Time: 0:00:00.009161\n",
      "Function load_csv_file elapsed Time: 0:00:00.010371\n",
      "25\n",
      "Processing query 010\n"
     ]
    }
   ],
   "source": [
    "# Create test\n",
    "for query in query_ids:\n",
    "    query_path = query_fold_path / query\n",
    "    query_test_path = test_path / query\n",
    "    query_image_path = test_path / query / 'images'\n",
    "    if not osp.exists(str(query_test_path)):\n",
    "        os.makedirs(str(query_test_path))\n",
    "    if osp.exists(str(query_image_path)):\n",
    "        shutil.rmtree(str(query_image_path))\n",
    "    os.makedirs(str(query_image_path))\n",
    "    query_path = query_fold_path / query\n",
    "    qminute_metadata_df = load_csv_file(query_path, 'minute_based_table.csv')\n",
    "    qvs_metadata_df = load_csv_file(query_path, 'visual_concepts.csv')\n",
    "    num_query = len(qvs_metadata_df.values)\n",
    "    print(num_query)\n",
    "    rand_list = ['%03d.JPG' % i for i in range(1, num_query+1)]\n",
    "    random.shuffle(rand_list)\n",
    "    minute_metadata_df = []\n",
    "    vs_metadata_df = []\n",
    "    org_name = []\n",
    "    org_path = []\n",
    "    new_name = []\n",
    "    for i in range(num_query):\n",
    "        vs = qvs_metadata_df.iloc[[i],:]\n",
    "        image_id, image_path, *r = vs.values[0]\n",
    "        org_name.append(image_id)\n",
    "        org_path.append(image_path)\n",
    "        image_name = rand_list[i]\n",
    "        new_name.append(image_name)\n",
    "        image_path = query_path / vs.values[0][1]\n",
    "        minute = qminute_metadata_df.iloc[[i],:]\n",
    "        vs.insert(0, 'image_name', [image_name])\n",
    "        vs_metadata_df.append(vs)\n",
    "        minute.insert(0, 'image_name', [image_name])\n",
    "        minute_metadata_df.append(minute)\n",
    "        # Copy image\n",
    "        dest_path = query_image_path / image_name\n",
    "        cmd = 'cp {} {}'.format(str(image_path), str(dest_path))\n",
    "        subprocess.call(cmd, shell=True)\n",
    "    minute_metadata_df = pd.concat(minute_metadata_df)\n",
    "    min_drop_cols = ['minute_ID', 'utc_time', 'local_time'] + ['img%02d_id' % i for i in range(20)] \\\n",
    "                    + ['cam%02d_id' % i for i in range(15)]\n",
    "    minute_metadata_df.drop(min_drop_cols, axis=1, inplace=True)\n",
    "    minute_metadata_df.sort_values('image_name', axis=0, inplace=True)\n",
    "    minute_metadata_df.to_csv(str(query_test_path / 'minute_based_table.csv'), index=False, na_rep='NULL')\n",
    "    vs_metadata_df = pd.concat(vs_metadata_df)\n",
    "    vs_drop_cols = ['image_id', 'image_path']\n",
    "    vs_metadata_df.drop(vs_drop_cols, axis=1, inplace=True)\n",
    "    vs_metadata_df.sort_values('image_name', axis=0, inplace=True)\n",
    "    vs_metadata_df.to_csv(str(query_test_path / 'visual_concepts.csv'), index=False, na_rep='NULL')\n",
    "    \n",
    "    map_df = pd.DataFrame({'image_name' : new_name, 'image_id' : org_name, 'image_path' : org_path}, \\\n",
    "                          columns=['image_name', 'image_id', 'image_path'])\n",
    "    map_df.sort_values('image_name', axis=0, inplace=True)\n",
    "    map_df.to_csv(str(query_path / 'map_df.csv'), index=False, na_rep='NULL')\n",
    "    print('Processing query {}'.format(query))"
   ]
  },
  {
   "cell_type": "code",
   "execution_count": null,
   "metadata": {},
   "outputs": [],
   "source": []
  }
 ],
 "metadata": {
  "kernelspec": {
   "display_name": "Python 3",
   "language": "python",
   "name": "python3"
  },
  "language_info": {
   "codemirror_mode": {
    "name": "ipython",
    "version": 3
   },
   "file_extension": ".py",
   "mimetype": "text/x-python",
   "name": "python",
   "nbconvert_exporter": "python",
   "pygments_lexer": "ipython3",
   "version": "3.7.2"
  }
 },
 "nbformat": 4,
 "nbformat_minor": 2
}
